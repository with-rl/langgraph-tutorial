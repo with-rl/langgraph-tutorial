{
 "cells": [
  {
   "cell_type": "markdown",
   "id": "7d31791f",
   "metadata": {},
   "source": [
    "# Time travel\n",
    "- Doc: https://langchain-ai.github.io/langgraph/tutorials/get-started/6-time-travel/"
   ]
  },
  {
   "cell_type": "code",
   "execution_count": null,
   "id": "8306706e",
   "metadata": {},
   "outputs": [],
   "source": [
    "from dotenv import load_dotenv\n",
    "\n",
    "# API-KEY 읽어오기\n",
    "load_dotenv()"
   ]
  },
  {
   "cell_type": "code",
   "execution_count": null,
   "id": "7dee1d93",
   "metadata": {},
   "outputs": [],
   "source": [
    "from langchain.chat_models import init_chat_model\n",
    "\n",
    "# 모델 초기화\n",
    "llm = init_chat_model(\"google_genai:gemini-2.5-flash\")"
   ]
  },
  {
   "cell_type": "markdown",
   "id": "f3da90e2",
   "metadata": {},
   "source": [
    "## 1. Rewind your graph"
   ]
  },
  {
   "cell_type": "code",
   "execution_count": null,
   "id": "6b171717",
   "metadata": {},
   "outputs": [],
   "source": [
    "from typing import Annotated\n",
    "\n",
    "from langchain_tavily import TavilySearch\n",
    "from typing_extensions import TypedDict\n",
    "\n",
    "from langgraph.checkpoint.memory import MemorySaver\n",
    "from langgraph.graph import StateGraph, START, END\n",
    "from langgraph.graph.message import add_messages\n",
    "from langgraph.prebuilt import ToolNode, tools_condition\n",
    "\n",
    "\n",
    "# 에이전트의 상태 정의 클래스\n",
    "class State(TypedDict):\n",
    "    messages: Annotated[list, add_messages]\n",
    "\n",
    "# 상태 기반 워크플로우 생성\n",
    "graph_builder = StateGraph(State)\n",
    "\n",
    "# 웹 검색을 도구\n",
    "tool = TavilySearch(max_results=2)\n",
    "# 도구 리스트\n",
    "tools = [tool]\n",
    "\n",
    "# LLM이 도구 호출 여부 판단\n",
    "llm_with_tools = llm.bind_tools(tools)\n",
    "\n",
    "# chatbot 노드 함수\n",
    "def chatbot(state: State):\n",
    "    return {\"messages\": [llm_with_tools.invoke(state[\"messages\"])]}\n",
    "\n",
    "# 워크플로우에 chatbot 노드 추가\n",
    "graph_builder.add_node(\"chatbot\", chatbot)\n",
    "\n",
    "# tool 노드 워크플로우에 추가\n",
    "tool_node = ToolNode(tools=[tool])\n",
    "graph_builder.add_node(\"tools\", tool_node)\n",
    "\n",
    "# 조건부 라우팅: tools로 이동하거나 END로 이동 (종료)\n",
    "graph_builder.add_conditional_edges(\n",
    "    \"chatbot\",\n",
    "    tools_condition,\n",
    ")\n",
    "\n",
    "# tools 노드 실행 후 chatbot 노드로 다시 이동 (도구 결과 처리)\n",
    "graph_builder.add_edge(\"tools\", \"chatbot\")\n",
    "\n",
    "# 워크플로우 시작점에서 chatbot 노드로 이동\n",
    "graph_builder.add_edge(START, \"chatbot\")\n",
    "\n",
    "memory = MemorySaver()\n",
    "# 워크플로우 컴파일, 실행 가능한 워크플로우 생성.\n",
    "# memory checkpointer 사용\n",
    "graph = graph_builder.compile(checkpointer=memory)"
   ]
  },
  {
   "cell_type": "markdown",
   "id": "edcb540d",
   "metadata": {},
   "source": [
    "## 2. Add steps"
   ]
  },
  {
   "cell_type": "code",
   "execution_count": null,
   "id": "8df7f4b2",
   "metadata": {},
   "outputs": [],
   "source": [
    "# 대화 세션을 구분하기 위한 설정\n",
    "config = {\"configurable\": {\"thread_id\": \"1\"}}\n",
    "\n",
    "# 워크플로우를 스트리밍 모드로 실행 (사용자 입력 처리)\n",
    "events = graph.stream(\n",
    "    {\n",
    "        \"messages\": [\n",
    "            {\n",
    "                \"role\": \"user\",\n",
    "                \"content\": (\n",
    "                    \"LangGraph를 배우고 있어.\"\n",
    "                    \"LangGraph에 대해 좀 조사해 줄래?\"\n",
    "                ),\n",
    "            },\n",
    "        ],\n",
    "    },\n",
    "    config,\n",
    "    stream_mode=\"values\",\n",
    ")\n",
    "for event in events:\n",
    "    if \"messages\" in event:\n",
    "        event[\"messages\"][-1].pretty_print()"
   ]
  },
  {
   "cell_type": "code",
   "execution_count": null,
   "id": "25739832",
   "metadata": {},
   "outputs": [],
   "source": [
    "# 워크플로우를 스트리밍 모드로 실행 (사용자 입력 처리)\n",
    "# 이전 답변에 이어서 대화 추가\n",
    "events = graph.stream(\n",
    "    {\n",
    "        \"messages\": [\n",
    "            {\n",
    "                \"role\": \"user\",\n",
    "                \"content\": (\n",
    "                    \"오, 도움이 됐어. \"\n",
    "                    \"이걸로 자율 에이전트를 만들어 봐야지!\"\n",
    "                ),\n",
    "            },\n",
    "        ],\n",
    "    },\n",
    "    config,\n",
    "    stream_mode=\"values\",\n",
    ")\n",
    "for event in events:\n",
    "    if \"messages\" in event:\n",
    "        event[\"messages\"][-1].pretty_print()"
   ]
  },
  {
   "cell_type": "markdown",
   "id": "4164c45b",
   "metadata": {},
   "source": [
    "## 3. Replay the full state history"
   ]
  },
  {
   "cell_type": "code",
   "execution_count": null,
   "id": "6dfe82f6",
   "metadata": {},
   "outputs": [],
   "source": [
    "# config에 해당하는 워크플로우의 상태 스냅샷 조회\n",
    "snapshot = graph.get_state(config)\n",
    "# 스냅샷 메시지를 순서대로 출력\n",
    "for m in snapshot.values[\"messages\"]:\n",
    "    m.pretty_print()"
   ]
  },
  {
   "cell_type": "code",
   "execution_count": null,
   "id": "7867714d",
   "metadata": {},
   "outputs": [],
   "source": [
    "# 재생할 상태를 저장할 변수\n",
    "to_replay = None\n",
    "\n",
    "# config에 해당하는 워크플로우의 상태 히스토리\n",
    "history = graph.get_state_history(config)\n",
    "for state in history:\n",
    "    # state.next는 다음에 실행할 노드\n",
    "    print(\"메지시 수: \", len(state.values[\"messages\"]), \"다음 실행 노드: \", state.next)\n",
    "    print(\"-\" * 80)\n",
    "\n",
    "    # 메시지 수가 2인 상태를 찾아 to_replay에 저장 (임의로 선택)\n",
    "    if len(state.values[\"messages\"]) == 2:\n",
    "        to_replay = state"
   ]
  },
  {
   "cell_type": "code",
   "execution_count": null,
   "id": "433aef5d",
   "metadata": {},
   "outputs": [],
   "source": [
    "# to_replay의 다음 노드 출력\n",
    "print(to_replay.next)\n",
    "# to_replay의 설정 객체 출력\n",
    "print(to_replay.config)\n",
    "to_replay"
   ]
  },
  {
   "cell_type": "markdown",
   "id": "c3572173",
   "metadata": {},
   "source": [
    "## 4. Load a state from a moment-in-time"
   ]
  },
  {
   "cell_type": "code",
   "execution_count": null,
   "id": "693ca086",
   "metadata": {},
   "outputs": [],
   "source": [
    "# to_replay.config의 checkpoint_id를 사용하여 워크플로우 상태 재생 (스트리밍 모드)\n",
    "events = graph.stream(None, to_replay.config, stream_mode=\"values\")\n",
    "for event in events:\n",
    "    if \"messages\" in event:\n",
    "        event[\"messages\"][-1].pretty_print()"
   ]
  },
  {
   "cell_type": "code",
   "execution_count": null,
   "id": "70c95957",
   "metadata": {},
   "outputs": [],
   "source": [
    "# config에 해당하는 워크플로우의 상태 스냅샷 조회 (변경된 내용 확인)\n",
    "snapshot = graph.get_state(config)\n",
    "# 스냅샷 메시지를 순서대로 출력\n",
    "for m in snapshot.values[\"messages\"]:\n",
    "    m.pretty_print()"
   ]
  },
  {
   "cell_type": "code",
   "execution_count": null,
   "id": "a9e2e3a2",
   "metadata": {},
   "outputs": [],
   "source": []
  }
 ],
 "metadata": {
  "kernelspec": {
   "display_name": "ai-agent",
   "language": "python",
   "name": "python3"
  },
  "language_info": {
   "codemirror_mode": {
    "name": "ipython",
    "version": 3
   },
   "file_extension": ".py",
   "mimetype": "text/x-python",
   "name": "python",
   "nbconvert_exporter": "python",
   "pygments_lexer": "ipython3",
   "version": "3.12.11"
  }
 },
 "nbformat": 4,
 "nbformat_minor": 5
}
