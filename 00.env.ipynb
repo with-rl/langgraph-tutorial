{
 "cells": [
  {
   "cell_type": "markdown",
   "id": "87bb3a30",
   "metadata": {},
   "source": [
    "# Env Setup\n",
    "- GOOGLE_API_KEY: https://aistudio.google.com/apikey\n",
    "- OPENAI_API_KEY: https://platform.openai.com/settings/organization/api-keys\n",
    "- ANTHROPIC_API_KEY: https://console.anthropic.com/settings/keys"
   ]
  },
  {
   "cell_type": "code",
   "execution_count": 7,
   "id": "80344561",
   "metadata": {},
   "outputs": [
    {
     "data": {
      "text/plain": [
       "True"
      ]
     },
     "execution_count": 7,
     "metadata": {},
     "output_type": "execute_result"
    }
   ],
   "source": [
    "from dotenv import load_dotenv\n",
    "\n",
    "# API-KEY 읽어오기\n",
    "load_dotenv()"
   ]
  },
  {
   "cell_type": "code",
   "execution_count": null,
   "id": "d6bbfe71",
   "metadata": {},
   "outputs": [
    {
     "data": {
      "text/markdown": [
       "# Langgraph에 대한 설명\n",
       "\n",
       "Langgraph는 LLM(Large Language Model) 애플리케이션을 위한 상태 관리 및 흐름 제어 프레임워크입니다. LangChain에서 개발한 이 도구는 복잡한 AI 시스템을 구축하는 데 도움이 됩니다.\n",
       "\n",
       "## 주요 특징\n",
       "\n",
       "1. **상태 기반 흐름 제어**: \n",
       "   - 애플리케이션의 상태를 관리하고 다음 단계를 결정하는 방식으로 동작\n",
       "   - 조건부 로직을 사용하여 복잡한 결정 트리 구현 가능\n",
       "\n",
       "2. **그래프 기반 아키텍처**:\n",
       "   - 노드와 엣지로 구성된 그래프 형태로 워크플로우 설계\n",
       "   - 각 노드는 특정 기능을 수행하고, 엣지는 흐름 방향을 결정\n",
       "\n",
       "3. **재사용 가능한 컴포넌트**:\n",
       "   - 모듈식 설계로 다양한 애플리케이션에서 컴포넌트 재사용 가능\n",
       "   - 에이전트, 도구, 메모리 등의 요소를 조합하여 시스템 구축\n",
       "\n",
       "## 활용 사례\n",
       "\n",
       "- **다중 에이전트 시스템**: 여러 AI 에이전트가 협력하는 시스템 구축\n",
       "- **복잡한 추론 체인**: 단계별 추론이 필요한 문제 해결\n",
       "- **대화형 애플리케이션**: 상태를 유지하며 사용자와 상호작용하는 챗봇\n",
       "- **워크플로우 자동화**: 조건부 분기가 있는 복잡한 프로세스 자동화\n",
       "\n",
       "Langgraph는 특히 ReAct, Plan-and-Execute 같은 고급 에이전트 패턴을 구현할 때 유용하며, 복잡한 LLM 애플리케이션의 설계와 실행을 단순화해줍니다."
      ],
      "text/plain": [
       "<IPython.core.display.Markdown object>"
      ]
     },
     "metadata": {},
     "output_type": "display_data"
    }
   ],
   "source": [
    "from langchain.chat_models import init_chat_model\n",
    "\n",
    "# 모델 초기화\n",
    "llm = init_chat_model(\"google_genai:gemini-2.5-flash\")  # gemini\n",
    "# llm = init_chat_model(\"gpt-4.1-nano\")  # gpt\n",
    "# llm = init_chat_model(\"anthropic:claude-3-7-sonnet-latest\")  # claude\n",
    "\n",
    "# 명령 실행\n",
    "result = llm.invoke(\"langgraph에 대해서 실명해줘\")\n",
    "\n",
    "# markdown 출력\n",
    "from IPython.display import display, Markdown\n",
    "display(Markdown(result.content))"
   ]
  },
  {
   "cell_type": "code",
   "execution_count": null,
   "id": "1895af54",
   "metadata": {},
   "outputs": [],
   "source": []
  }
 ],
 "metadata": {
  "kernelspec": {
   "display_name": "ai-agent",
   "language": "python",
   "name": "python3"
  },
  "language_info": {
   "codemirror_mode": {
    "name": "ipython",
    "version": 3
   },
   "file_extension": ".py",
   "mimetype": "text/x-python",
   "name": "python",
   "nbconvert_exporter": "python",
   "pygments_lexer": "ipython3",
   "version": "3.12.11"
  }
 },
 "nbformat": 4,
 "nbformat_minor": 5
}
