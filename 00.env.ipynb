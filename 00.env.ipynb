{
 "cells": [
  {
   "cell_type": "markdown",
   "id": "87bb3a30",
   "metadata": {},
   "source": [
    "# Env Setup\n",
    "- GOOGLE_API_KEY: https://aistudio.google.com/apikey\n",
    "- OPENAI_API_KEY: https://platform.openai.com/settings/organization/api-keys\n",
    "- ANTHROPIC_API_KEY: https://console.anthropic.com/settings/keys"
   ]
  },
  {
   "cell_type": "code",
   "execution_count": null,
   "id": "80344561",
   "metadata": {},
   "outputs": [],
   "source": [
    "from dotenv import load_dotenv\n",
    "\n",
    "# API-KEY 읽어오기\n",
    "load_dotenv()"
   ]
  },
  {
   "cell_type": "code",
   "execution_count": null,
   "id": "d6bbfe71",
   "metadata": {},
   "outputs": [],
   "source": [
    "from langchain.chat_models import init_chat_model\n",
    "\n",
    "# 모델 초기화\n",
    "llm = init_chat_model(\"google_genai:gemini-2.5-flash\")  # gemini\n",
    "# llm = init_chat_model(\"gpt-4.1-nano\")  # gpt\n",
    "# llm = init_chat_model(\"anthropic:claude-3-7-sonnet-latest\")  # claude\n",
    "\n",
    "# 명령 실행\n",
    "result = llm.invoke(\"langgraph에 대해서 실명해줘\")\n",
    "\n",
    "# markdown 출력\n",
    "from IPython.display import display, Markdown\n",
    "display(Markdown(result.content))"
   ]
  },
  {
   "cell_type": "code",
   "execution_count": null,
   "id": "1895af54",
   "metadata": {},
   "outputs": [],
   "source": []
  }
 ],
 "metadata": {
  "kernelspec": {
   "display_name": "ai-agent",
   "language": "python",
   "name": "python3"
  },
  "language_info": {
   "codemirror_mode": {
    "name": "ipython",
    "version": 3
   },
   "file_extension": ".py",
   "mimetype": "text/x-python",
   "name": "python",
   "nbconvert_exporter": "python",
   "pygments_lexer": "ipython3",
   "version": "3.12.11"
  }
 },
 "nbformat": 4,
 "nbformat_minor": 5
}
