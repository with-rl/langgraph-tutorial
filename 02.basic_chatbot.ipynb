{
 "cells": [
  {
   "cell_type": "markdown",
   "id": "f2690c19",
   "metadata": {},
   "source": [
    "# Build a basic chatbot\n",
    "- Doc: https://langchain-ai.github.io/langgraph/tutorials/get-started/1-build-basic-chatbot/"
   ]
  },
  {
   "cell_type": "code",
   "execution_count": null,
   "id": "e53fc7ac",
   "metadata": {},
   "outputs": [],
   "source": [
    "from dotenv import load_dotenv\n",
    "\n",
    "# API-KEY 읽어오기\n",
    "load_dotenv()"
   ]
  },
  {
   "cell_type": "code",
   "execution_count": null,
   "id": "8ef5420c",
   "metadata": {},
   "outputs": [],
   "source": [
    "from langchain.chat_models import init_chat_model\n",
    "\n",
    "# 모델 초기화\n",
    "llm = init_chat_model(\"google_genai:gemini-2.5-flash\")"
   ]
  },
  {
   "cell_type": "markdown",
   "id": "501b6dca",
   "metadata": {},
   "source": [
    "## 2. Create a StateGraph"
   ]
  },
  {
   "cell_type": "code",
   "execution_count": null,
   "id": "7f1c441d",
   "metadata": {},
   "outputs": [],
   "source": [
    "from typing import Annotated\n",
    "\n",
    "from typing_extensions import TypedDict\n",
    "\n",
    "from langgraph.graph import StateGraph, START, END\n",
    "from langgraph.graph.message import add_messages\n",
    "\n",
    "\n",
    "# 에이전트의 상태 정의 클래스\n",
    "# 상태는 워크플로우에서 노드 간 데이터를 전달하는 데 사용\n",
    "class State(TypedDict):\n",
    "    # Annotated: 타입 힌트\n",
    "    # messages는: 리스트, 대화 기록 저장\n",
    "    # add_messages: 상태 업데이트 시 메시지를 덮어쓰지 않고 추가\n",
    "    messages: Annotated[list, add_messages]\n",
    "\n",
    "\n",
    "# 상태 기반 워크플로우 생성\n",
    "graph_builder = StateGraph(State)"
   ]
  },
  {
   "cell_type": "markdown",
   "id": "d19e4a42",
   "metadata": {},
   "source": [
    "## 3. Add a node"
   ]
  },
  {
   "cell_type": "code",
   "execution_count": null,
   "id": "9d8c5c37",
   "metadata": {},
   "outputs": [],
   "source": [
    "# 챗봇 노드 함수\n",
    "def chatbot(state: State):\n",
    "    # LLM의 출력(응답)을 messages 리스트에 추가하여 반환\n",
    "    return {\"messages\": [llm.invoke(state[\"messages\"])]}\n",
    "\n",
    "\n",
    "# 워크플로우에 chatbot 노드 추가\n",
    "graph_builder.add_node(\"chatbot\", chatbot)"
   ]
  },
  {
   "cell_type": "markdown",
   "id": "f0999b66",
   "metadata": {},
   "source": [
    "## 4. Add an entry point"
   ]
  },
  {
   "cell_type": "code",
   "execution_count": null,
   "id": "06fc1fab",
   "metadata": {},
   "outputs": [],
   "source": [
    "# 워크플로우의 시작점(START)에서 'chatbot' 노드로 이동하는 엣지 추가\n",
    "graph_builder.add_edge(START, \"chatbot\")\n",
    "# 'chatbot' 노드에서 워크플로우의 종료점(END)로 이동하는 엣지 추가\n",
    "graph_builder.add_edge(\"chatbot\", END)"
   ]
  },
  {
   "cell_type": "markdown",
   "id": "8ce6ab87",
   "metadata": {},
   "source": [
    "## 5. Compile the graph"
   ]
  },
  {
   "cell_type": "code",
   "execution_count": null,
   "id": "5afba25e",
   "metadata": {},
   "outputs": [],
   "source": [
    "# 워크플로우 컴파일, 실행 가능한 워크플로우 생성\n",
    "graph = graph_builder.compile()"
   ]
  },
  {
   "cell_type": "markdown",
   "id": "b24de970",
   "metadata": {},
   "source": [
    "## 6. Visualize the graph (optional)"
   ]
  },
  {
   "cell_type": "code",
   "execution_count": null,
   "id": "1f62d45c",
   "metadata": {},
   "outputs": [],
   "source": [
    "from IPython.display import Image, display\n",
    "\n",
    "try:\n",
    "    # 워크플로우 그래프를 이미지로 시각화하여 출력\n",
    "    display(Image(graph.get_graph().draw_mermaid_png()))\n",
    "except Exception:\n",
    "    pass"
   ]
  },
  {
   "cell_type": "markdown",
   "id": "982725b1",
   "metadata": {},
   "source": [
    "## 7. Run the chatbot"
   ]
  },
  {
   "cell_type": "code",
   "execution_count": null,
   "id": "79ee1522",
   "metadata": {},
   "outputs": [],
   "source": [
    "def stream_graph_updates(user_input: str):\n",
    "    # 그래프를 스트리밍 모드로 실행\n",
    "    events = graph.stream({\"messages\": [{\"role\": \"user\", \"content\": user_input}]})\n",
    "    for event in events:\n",
    "        for value in event.values():\n",
    "            # 최신 메시지(마지막 메시지)의 내용을 출력\n",
    "            value[\"messages\"][-1].pretty_print()\n",
    "\n",
    "\n",
    "while True:\n",
    "    try:\n",
    "        user_input = input(\"User: \")  # 사용자 입력 받기\n",
    "        if user_input.lower() in [\"quit\", \"exit\", \"q\"]:  # 종료 조건\n",
    "            print(\"Goodbye!\")\n",
    "            break\n",
    "        stream_graph_updates(user_input)  # 워크플로우 실행\n",
    "    except:\n",
    "        break"
   ]
  },
  {
   "cell_type": "code",
   "execution_count": null,
   "id": "6d0dc0b8",
   "metadata": {},
   "outputs": [],
   "source": []
  }
 ],
 "metadata": {
  "kernelspec": {
   "display_name": "ai-agent",
   "language": "python",
   "name": "python3"
  },
  "language_info": {
   "codemirror_mode": {
    "name": "ipython",
    "version": 3
   },
   "file_extension": ".py",
   "mimetype": "text/x-python",
   "name": "python",
   "nbconvert_exporter": "python",
   "pygments_lexer": "ipython3",
   "version": "3.12.11"
  }
 },
 "nbformat": 4,
 "nbformat_minor": 5
}
