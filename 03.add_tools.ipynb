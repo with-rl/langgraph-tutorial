{
 "cells": [
  {
   "cell_type": "markdown",
   "id": "a146b4c5",
   "metadata": {},
   "source": [
    "# Add tools\n",
    "- Doc: https://langchain-ai.github.io/langgraph/tutorials/get-started/2-add-tools/"
   ]
  },
  {
   "cell_type": "code",
   "execution_count": null,
   "id": "03401bf2",
   "metadata": {},
   "outputs": [],
   "source": [
    "from dotenv import load_dotenv\n",
    "\n",
    "# API-KEY 읽어오기\n",
    "load_dotenv()"
   ]
  },
  {
   "cell_type": "code",
   "execution_count": null,
   "id": "db098df8",
   "metadata": {},
   "outputs": [],
   "source": [
    "from langchain.chat_models import init_chat_model\n",
    "\n",
    "# 모델 초기화\n",
    "llm = init_chat_model(\"google_genai:gemini-2.5-flash\")"
   ]
  },
  {
   "cell_type": "markdown",
   "id": "b0fc5974",
   "metadata": {},
   "source": [
    "## 3. Define the tool\n",
    "- https://www.tavily.com/"
   ]
  },
  {
   "cell_type": "code",
   "execution_count": null,
   "id": "fb739a42",
   "metadata": {},
   "outputs": [],
   "source": [
    "from langchain_tavily import TavilySearch\n",
    "\n",
    "# 웹 검색을 도구\n",
    "tool = TavilySearch(max_results=2)\n",
    "# 도구 리스트\n",
    "tools = [tool]\n",
    "# 테스트\n",
    "tool.invoke(\"What's a 'node' in LangGraph?\")"
   ]
  },
  {
   "cell_type": "code",
   "execution_count": null,
   "id": "085ffad0",
   "metadata": {},
   "outputs": [],
   "source": [
    "import json\n",
    "\n",
    "# LLM에 입력 되는 값 확인\n",
    "print(\"**** 도구 이름 ****\")\n",
    "print(tool.name)\n",
    "print()\n",
    "print(\"**** 도구 설명 ****\")\n",
    "print(tool.description)\n",
    "print()\n",
    "print(\"**** 도구 인자 ****\")\n",
    "print(json.dumps(tool.args_schema.model_json_schema(), indent=2))"
   ]
  },
  {
   "cell_type": "markdown",
   "id": "890f7452",
   "metadata": {},
   "source": [
    "## 4. Define the graph"
   ]
  },
  {
   "cell_type": "code",
   "execution_count": null,
   "id": "b476de80",
   "metadata": {},
   "outputs": [],
   "source": [
    "from typing import Annotated\n",
    "\n",
    "from typing_extensions import TypedDict\n",
    "\n",
    "from langgraph.graph import StateGraph, START, END\n",
    "from langgraph.graph.message import add_messages\n",
    "\n",
    "\n",
    "# 에이전트의 상태 정의 클래스\n",
    "class State(TypedDict):\n",
    "    messages: Annotated[list, add_messages]\n",
    "\n",
    "# 상태 기반 워크플로우 생성\n",
    "graph_builder = StateGraph(State)\n",
    "\n",
    "# LLM이 도구 호출 여부 판단\n",
    "llm_with_tools = llm.bind_tools(tools)\n",
    "\n",
    "# chatbot 노드 함수\n",
    "def chatbot(state: State):\n",
    "    return {\"messages\": [llm_with_tools.invoke(state[\"messages\"])]}\n",
    "\n",
    "# 워크플로우에 chatbot 노드 추가\n",
    "graph_builder.add_node(\"chatbot\", chatbot)"
   ]
  },
  {
   "cell_type": "markdown",
   "id": "d16efb42",
   "metadata": {},
   "source": [
    "## 5. Create a function to run the tools"
   ]
  },
  {
   "cell_type": "code",
   "execution_count": null,
   "id": "7f57e139",
   "metadata": {},
   "outputs": [],
   "source": [
    "import json\n",
    "\n",
    "from langchain_core.messages import ToolMessage\n",
    "\n",
    "\n",
    "# 도구 실행 클래스\n",
    "class BasicToolNode:\n",
    "    \"\"\"A node that runs the tools requested in the last AIMessage.\"\"\"\n",
    "\n",
    "    def __init__(self, tools: list) -> None:\n",
    "        self.tools_by_name = {tool.name: tool for tool in tools}\n",
    "\n",
    "    def __call__(self, inputs: State):\n",
    "        # 입력 상태에서 메시지 리스트를 추출.\n",
    "        if messages := inputs.get(\"messages\", []):\n",
    "            message = messages[-1]\n",
    "        else:\n",
    "            raise ValueError(\"No message found in input\")\n",
    "        \n",
    "        outputs = []\n",
    "        for tool_call in message.tool_calls:\n",
    "            # 도구 이름을 이용해 도구 호출\n",
    "            tool_result = self.tools_by_name[tool_call[\"name\"]].invoke(\n",
    "                tool_call[\"args\"]\n",
    "            )\n",
    "            # 도구 결과를 `ToolMessage` 형식으로 변환하여 출력 리스트에 추가\n",
    "            outputs.append(\n",
    "                ToolMessage(\n",
    "                    content=json.dumps(tool_result),\n",
    "                    name=tool_call[\"name\"],\n",
    "                    tool_call_id=tool_call[\"id\"],\n",
    "                )\n",
    "            )\n",
    "        # 도구 호출 결과를 포함한 메시지 리스트를 반환\n",
    "        return {\"messages\": outputs}\n",
    "\n",
    "# BasicToolNode 인스턴스 생성\n",
    "tool_node = BasicToolNode(tools=[tool])\n",
    "# tools 노드를 워크플로우에 추가\n",
    "graph_builder.add_node(\"tools\", tool_node)"
   ]
  },
  {
   "cell_type": "markdown",
   "id": "5644b097",
   "metadata": {},
   "source": [
    "## 6. Define the conditional_edges"
   ]
  },
  {
   "cell_type": "code",
   "execution_count": null,
   "id": "caa6e488",
   "metadata": {},
   "outputs": [],
   "source": [
    "def route_tools(state: State):\n",
    "    \"\"\"\n",
    "    Use in the conditional_edge to route to the ToolNode if the last message\n",
    "    has tool calls. Otherwise, route to the end.\n",
    "    \"\"\"\n",
    "    if isinstance(state, list):\n",
    "        ai_message = state[-1]\n",
    "    elif messages := state.get(\"messages\", []):\n",
    "        ai_message = messages[-1]  # 마지막 메시지 (LLM 응답)\n",
    "    else:\n",
    "        raise ValueError(f\"No messages found in input state to tool_edge: {state}\")\n",
    "    \n",
    "    # LLM 응답에 `tool_calls`가 있으면 `tools` 노드로 이동.\n",
    "    if hasattr(ai_message, \"tool_calls\") and len(ai_message.tool_calls) > 0:\n",
    "        return \"tools\"\n",
    "    # 없으면 END 노드로 이동 (종료)\n",
    "    return END\n",
    "\n",
    "\n",
    "# 조건부 라우팅: tools로 이동하거나 END로 종료.\n",
    "graph_builder.add_conditional_edges(\n",
    "    \"chatbot\",\n",
    "    route_tools,\n",
    "    # 라우팅 결과를 노드 이름으로 매핑\n",
    "    {\"tools\": \"tools\", END: END},\n",
    ")\n",
    "\n",
    "# tools 노드 실행 후 chatbot 노드로 다시 이동 (도구 결과 처리)\n",
    "graph_builder.add_edge(\"tools\", \"chatbot\")\n",
    "# 워크플로우 시작점에서 chatbot 노드로 이동\n",
    "graph_builder.add_edge(START, \"chatbot\")\n",
    "# 워크플로우 컴파일, 실행 가능한 워크플로우 생성\n",
    "graph = graph_builder.compile()"
   ]
  },
  {
   "cell_type": "markdown",
   "id": "6d3a60fe",
   "metadata": {},
   "source": [
    "## 7. Visualize the graph (optional)"
   ]
  },
  {
   "cell_type": "code",
   "execution_count": null,
   "id": "bcdffea8",
   "metadata": {},
   "outputs": [],
   "source": [
    "from IPython.display import Image, display\n",
    "\n",
    "try:\n",
    "    # 워크플로우 그래프를 이미지로 시각화하여 출력\n",
    "    display(Image(graph.get_graph().draw_mermaid_png()))\n",
    "except Exception:\n",
    "    pass"
   ]
  },
  {
   "cell_type": "markdown",
   "id": "e2f9c4b3",
   "metadata": {},
   "source": [
    "## 8. Ask the bot questions"
   ]
  },
  {
   "cell_type": "code",
   "execution_count": null,
   "id": "3b21e55d",
   "metadata": {},
   "outputs": [],
   "source": [
    "def stream_graph_updates(user_input: str):\n",
    "    # 워크플로우를 스트리밍 모드로 실행 (사용자 입력 처리)\n",
    "    events = graph.stream({\"messages\": [{\"role\": \"user\", \"content\": user_input}]})\n",
    "    for event in events:\n",
    "        for value in event.values():\n",
    "            # 이벤트의 마지막 메시지 출력\n",
    "            value[\"messages\"][-1].pretty_print()\n",
    "\n",
    "\n",
    "while True:\n",
    "    try:\n",
    "        user_input = input(\"User: \")  # 사용자 입력 받기\n",
    "        if user_input.lower() in [\"quit\", \"exit\", \"q\"]:  # 종료 조건\n",
    "            print(\"Goodbye!\")\n",
    "            break\n",
    "\n",
    "        # 워크플로우 실행\n",
    "        stream_graph_updates(user_input)\n",
    "    except:\n",
    "        # 오류 발생시 기본 질문으로 대체\n",
    "        user_input = \"What do you know about LangGraph?\"\n",
    "        print(\"User: \" + user_input)\n",
    "        stream_graph_updates(user_input)\n",
    "        break"
   ]
  },
  {
   "cell_type": "markdown",
   "id": "eecd7f55",
   "metadata": {},
   "source": [
    "## 9. Use prebuilts"
   ]
  },
  {
   "cell_type": "code",
   "execution_count": null,
   "id": "dc822ec8",
   "metadata": {},
   "outputs": [],
   "source": [
    "from typing import Annotated\n",
    "\n",
    "from langchain_tavily import TavilySearch\n",
    "from typing_extensions import TypedDict\n",
    "\n",
    "from langgraph.graph import StateGraph, START, END\n",
    "from langgraph.graph.message import add_messages\n",
    "from langgraph.prebuilt import ToolNode, tools_condition\n",
    "\n",
    "# 에이전트의 상태 정의 클래스\n",
    "class State(TypedDict):\n",
    "    messages: Annotated[list, add_messages]\n",
    "\n",
    "# 상태 기반 워크플로우 생성\n",
    "graph_builder = StateGraph(State)\n",
    "\n",
    "# 웹 검색을 도구\n",
    "tool = TavilySearch(max_results=2)\n",
    "# 도구 리스트\n",
    "tools = [tool]\n",
    "\n",
    "# LLM이 도구 호출 여부 판단\n",
    "llm_with_tools = llm.bind_tools(tools)\n",
    "\n",
    "# chatbot 노드 함수\n",
    "def chatbot(state: State):\n",
    "    return {\"messages\": [llm_with_tools.invoke(state[\"messages\"])]}\n",
    "\n",
    "# 워크플로우에 chatbot 노드 추가\n",
    "graph_builder.add_node(\"chatbot\", chatbot)\n",
    "\n",
    "# LangGraph의 prebuilt ToolNode를 사용\n",
    "tool_node = ToolNode(tools=[tool])\n",
    "# tool 노드 워크플로우에 추가\n",
    "graph_builder.add_node(\"tools\", tool_node)\n",
    "\n",
    "# 조건부 라우팅: tools로 이동하거나 END로 이동 (종료)\n",
    "graph_builder.add_conditional_edges(\n",
    "    \"chatbot\",\n",
    "    tools_condition,  # LangGraph의 prebuilt 함수\n",
    "                      # 마지막 메시지에 `tool_calls`가 있는지 확인\n",
    ")\n",
    "\n",
    "# tools 노드 실행 후 chatbot 노드로 다시 이동 (도구 결과 처리)\n",
    "graph_builder.add_edge(\"tools\", \"chatbot\")\n",
    "# 워크플로우 시작점에서 chatbot 노드로 이동\n",
    "graph_builder.add_edge(START, \"chatbot\")\n",
    "# 워크플로우 컴파일, 실행 가능한 워크플로우 생성\n",
    "graph = graph_builder.compile()"
   ]
  },
  {
   "cell_type": "code",
   "execution_count": null,
   "id": "4a0974e1",
   "metadata": {},
   "outputs": [],
   "source": [
    "from IPython.display import Image, display\n",
    "\n",
    "try:\n",
    "    # 워크플로우 그래프를 이미지로 시각화하여 출력\n",
    "    display(Image(graph.get_graph().draw_mermaid_png()))\n",
    "except Exception:\n",
    "    # This requires some extra dependencies and is optional\n",
    "    pass"
   ]
  },
  {
   "cell_type": "code",
   "execution_count": null,
   "id": "12c1fb75",
   "metadata": {},
   "outputs": [],
   "source": [
    "def stream_graph_updates(user_input: str):\n",
    "    # 워크플로우를 스트리밍 모드로 실행 (사용자 입력 처리)\n",
    "    events = graph.stream({\"messages\": [{\"role\": \"user\", \"content\": user_input}]})\n",
    "    for event in events:\n",
    "        for value in event.values():\n",
    "            # 이벤트의 마지막 메시지 출력\n",
    "            value[\"messages\"][-1].pretty_print()\n",
    "\n",
    "\n",
    "while True:\n",
    "    try:\n",
    "        user_input = input(\"User: \")  # 사용자 입력 받기\n",
    "        if user_input.lower() in [\"quit\", \"exit\", \"q\"]:  # 종료 조건\n",
    "            print(\"Goodbye!\")\n",
    "            break\n",
    "\n",
    "        # 워크플로우 실행\n",
    "        stream_graph_updates(user_input)\n",
    "    except:\n",
    "        # 오류 발생시 기본 질문으로 대체\n",
    "        user_input = \"What do you know about LangGraph?\"\n",
    "        print(\"User: \" + user_input)\n",
    "        stream_graph_updates(user_input)\n",
    "        break"
   ]
  },
  {
   "cell_type": "code",
   "execution_count": null,
   "id": "6f12afca",
   "metadata": {},
   "outputs": [],
   "source": []
  }
 ],
 "metadata": {
  "kernelspec": {
   "display_name": "ai-agent",
   "language": "python",
   "name": "python3"
  },
  "language_info": {
   "codemirror_mode": {
    "name": "ipython",
    "version": 3
   },
   "file_extension": ".py",
   "mimetype": "text/x-python",
   "name": "python",
   "nbconvert_exporter": "python",
   "pygments_lexer": "ipython3",
   "version": "3.12.11"
  }
 },
 "nbformat": 4,
 "nbformat_minor": 5
}
