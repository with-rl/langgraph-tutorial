{
 "cells": [
  {
   "cell_type": "markdown",
   "id": "5d8fd4ec",
   "metadata": {},
   "source": [
    "# Customize state\n",
    "- Doc: https://langchain-ai.github.io/langgraph/tutorials/get-started/5-customize-state/"
   ]
  },
  {
   "cell_type": "code",
   "execution_count": null,
   "id": "e6070b96",
   "metadata": {},
   "outputs": [],
   "source": [
    "from dotenv import load_dotenv\n",
    "\n",
    "# API-KEY 읽어오기\n",
    "load_dotenv()"
   ]
  },
  {
   "cell_type": "code",
   "execution_count": null,
   "id": "c6604104",
   "metadata": {},
   "outputs": [],
   "source": [
    "from langchain.chat_models import init_chat_model\n",
    "\n",
    "# 모델 초기화\n",
    "llm = init_chat_model(\"google_genai:gemini-2.5-flash\")"
   ]
  },
  {
   "cell_type": "markdown",
   "id": "af0ef896",
   "metadata": {},
   "source": [
    "## 1. Add keys to the state"
   ]
  },
  {
   "cell_type": "code",
   "execution_count": null,
   "id": "21b72ee2",
   "metadata": {},
   "outputs": [],
   "source": [
    "from typing import Annotated\n",
    "\n",
    "from typing_extensions import TypedDict\n",
    "\n",
    "from langgraph.graph.message import add_messages\n",
    "\n",
    "\n",
    "# 에이전트의 상태 정의 클래스\n",
    "class State(TypedDict):\n",
    "    messages: Annotated[list, add_messages]\n",
    "    name: str      # 이름 (새로 추가됨)\n",
    "    birthday: str  # 생일 (새로 추가됨)"
   ]
  },
  {
   "cell_type": "markdown",
   "id": "638bce6e",
   "metadata": {},
   "source": [
    "## 2. Update the state inside the tool"
   ]
  },
  {
   "cell_type": "code",
   "execution_count": null,
   "id": "b58347a1",
   "metadata": {},
   "outputs": [],
   "source": [
    "from langchain_core.messages import ToolMessage\n",
    "from langchain_core.tools import InjectedToolCallId, tool\n",
    "\n",
    "from langgraph.types import Command, interrupt\n",
    "\n",
    "# human_assistance 도구 정의 (인간의 도움을 요청하는 도구)\n",
    "@tool\n",
    "def human_assistance(\n",
    "    name: str,\n",
    "    birthday: str,\n",
    "    # tool_call_id: 도구 호출의 고유한 DI, 도구 호출과 그 결과를 추적하기 위함 (자동 생성)\n",
    "    tool_call_id: Annotated[str, InjectedToolCallId]\n",
    ") -> str:\n",
    "    \"\"\"Request assistance from a human.\"\"\"\n",
    "    # 인간에게 질문과 현재 상태(name, birthday)를 전달 후 응답을 기다림\n",
    "    human_response = interrupt(\n",
    "        {\n",
    "            \"question\": \"Is this correct?\",\n",
    "            \"name\": name,\n",
    "            \"birthday\": birthday,\n",
    "        },\n",
    "    )\n",
    "    # 응답이 y로 시작하면 현재 상태 유지\n",
    "    if human_response.get(\"correct\", \"\").lower().startswith(\"y\"):\n",
    "        verified_name = name\n",
    "        verified_birthday = birthday\n",
    "        response = \"Correct\"\n",
    "    # 그렇지 않으면 인간이 제공한 수정된 name, birthday 사용\n",
    "    else:\n",
    "        verified_name = human_response.get(\"name\", name)\n",
    "        verified_birthday = human_response.get(\"birthday\", birthday)\n",
    "        response = f\"Made a correction: {human_response}\"\n",
    "\n",
    "    # 상태 업데이트: ToolMessage와 함께 name, birthday 갱신\n",
    "    state_update = {\n",
    "        \"name\": verified_name,\n",
    "        \"birthday\": verified_birthday,\n",
    "        \"messages\": [ToolMessage(response, tool_call_id=tool_call_id)],\n",
    "    }\n",
    "    # Command 객체를 반환하여 상태 업데이트 명령 전달\n",
    "    return Command(update=state_update)"
   ]
  },
  {
   "cell_type": "code",
   "execution_count": null,
   "id": "e916ce45",
   "metadata": {},
   "outputs": [],
   "source": [
    "from langchain_tavily import TavilySearch\n",
    "from langchain_core.tools import tool\n",
    "\n",
    "from langgraph.checkpoint.memory import MemorySaver\n",
    "from langgraph.graph import StateGraph, START, END\n",
    "from langgraph.prebuilt import ToolNode, tools_condition\n",
    "\n",
    "\n",
    "# 상태 기반 워크플로우 생성\n",
    "graph_builder = StateGraph(State)\n",
    "\n",
    "# 웹 검색을 도구\n",
    "tool = TavilySearch(max_results=5)\n",
    "# 도구 리스트\n",
    "tools = [tool, human_assistance]\n",
    "\n",
    "# LLM이 도구 호출 여부 판단\n",
    "llm_with_tools = llm.bind_tools(tools)\n",
    "\n",
    "# chatbot 노드 함수\n",
    "def chatbot(state: State):\n",
    "    message = llm_with_tools.invoke(state[\"messages\"])\n",
    "    # 병렬 도구 호출 비활성화: 인터럽트 후 툴 중복 호출 방지\n",
    "    assert len(message.tool_calls) <= 1\n",
    "    return {\"messages\": [message]}\n",
    "\n",
    "# 워크플로우에 chatbot 노드 추가\n",
    "graph_builder.add_node(\"chatbot\", chatbot)\n",
    "\n",
    "# tool 노드 워크플로우에 추가\n",
    "tool_node = ToolNode(tools=tools)\n",
    "graph_builder.add_node(\"tools\", tool_node)\n",
    "\n",
    "# 조건부 라우팅: tools로 이동하거나 END로 이동 (종료)\n",
    "graph_builder.add_conditional_edges(\n",
    "    \"chatbot\",\n",
    "    tools_condition,\n",
    ")\n",
    "\n",
    "# tools 노드 실행 후 chatbot 노드로 다시 이동 (도구 결과 처리)\n",
    "graph_builder.add_edge(\"tools\", \"chatbot\")\n",
    "\n",
    "# 워크플로우 시작점에서 chatbot 노드로 이동\n",
    "graph_builder.add_edge(START, \"chatbot\")"
   ]
  },
  {
   "cell_type": "code",
   "execution_count": null,
   "id": "c6858ed9",
   "metadata": {},
   "outputs": [],
   "source": [
    "memory = MemorySaver()\n",
    "# 워크플로우 컴파일, 실행 가능한 워크플로우 생성.\n",
    "# memory checkpointer 사용\n",
    "graph = graph_builder.compile(checkpointer=memory)"
   ]
  },
  {
   "cell_type": "code",
   "execution_count": null,
   "id": "93499d1e",
   "metadata": {},
   "outputs": [],
   "source": [
    "from IPython.display import Image, display\n",
    "\n",
    "try:\n",
    "    # 워크플로우 그래프를 이미지로 시각화하여 출력\n",
    "    display(Image(graph.get_graph().draw_mermaid_png()))\n",
    "except Exception:\n",
    "    # This requires some extra dependencies and is optional\n",
    "    pass"
   ]
  },
  {
   "cell_type": "markdown",
   "id": "bfdd7633",
   "metadata": {},
   "source": [
    "## 3. Prompt the chatbot"
   ]
  },
  {
   "cell_type": "code",
   "execution_count": null,
   "id": "b64b54fb",
   "metadata": {},
   "outputs": [],
   "source": [
    "user_input = (\n",
    "    \"이순신 장군이 언제 태아나셨는지 알아봐줘. \"\n",
    "    \"답변하기 전 human_assistance 도구를 사용해서 검토해줘.\"\n",
    ")\n",
    "# 대화 세션을 구분하기 위한 설정\n",
    "config = {\"configurable\": {\"thread_id\": \"1\"}}\n",
    "\n",
    "# 워크플로우를 스트리밍 모드로 실행 (사용자 입력 처리)\n",
    "events = graph.stream(\n",
    "    {\"messages\": [{\"role\": \"user\", \"content\": user_input}]},\n",
    "    config,\n",
    "    stream_mode=\"values\",  # values: 각 노드가 실행을 마친 후 결과를 스트리밍\n",
    ")\n",
    "for event in events:\n",
    "    if \"messages\" in event:\n",
    "        event[\"messages\"][-1].pretty_print()"
   ]
  },
  {
   "cell_type": "markdown",
   "id": "de114179",
   "metadata": {},
   "source": [
    "## 4. Add human assistance"
   ]
  },
  {
   "cell_type": "code",
   "execution_count": null,
   "id": "b91cbc8a",
   "metadata": {},
   "outputs": [],
   "source": [
    "# Command 객체의 resume에 인간 응답 저장\n",
    "human_command = Command(\n",
    "    resume={\n",
    "        \"name\": \"손흥민\",\n",
    "        \"birthday\": \"1992년 7월 8일\"\n",
    "    },\n",
    ")\n",
    "\n",
    "# 워크플로우를 스트리밍 모드로 실행 (인간 응답 처리)\n",
    "events = graph.stream(\n",
    "    human_command,\n",
    "    config,\n",
    "    stream_mode=\"values\",  # values: 각 노드가 실행을 마친 후 결과를 스트리밍\n",
    ")\n",
    "for event in events:\n",
    "    if \"messages\" in event:\n",
    "        event[\"messages\"][-1].pretty_print()"
   ]
  },
  {
   "cell_type": "code",
   "execution_count": null,
   "id": "188d57c5",
   "metadata": {},
   "outputs": [],
   "source": [
    "# config에 해당하는 워크플로우의 상태 스냅샷 조회\n",
    "snapshot = graph.get_state(config)\n",
    "\n",
    "{k: v for k, v in snapshot.values.items() if k in (\"name\", \"birthday\")}"
   ]
  },
  {
   "cell_type": "markdown",
   "id": "ce15c484",
   "metadata": {},
   "source": [
    "## 5. Manually update the state"
   ]
  },
  {
   "cell_type": "code",
   "execution_count": null,
   "id": "fdeb3e6e",
   "metadata": {},
   "outputs": [],
   "source": [
    "# LangGraph 워크플로우의 상태를 업데이트\n",
    "graph.update_state(config, {\"name\": \"류현진\"})"
   ]
  },
  {
   "cell_type": "markdown",
   "id": "c0e7d682",
   "metadata": {},
   "source": [
    "## 6. View the new value"
   ]
  },
  {
   "cell_type": "code",
   "execution_count": null,
   "id": "c8e71a10",
   "metadata": {},
   "outputs": [],
   "source": [
    "# config에 해당하는 워크플로우의 상태 스냅샷 조회\n",
    "snapshot = graph.get_state(config)\n",
    "\n",
    "{k: v for k, v in snapshot.values.items() if k in (\"name\", \"birthday\")}"
   ]
  },
  {
   "cell_type": "code",
   "execution_count": null,
   "id": "701cfcf8",
   "metadata": {},
   "outputs": [],
   "source": []
  }
 ],
 "metadata": {
  "kernelspec": {
   "display_name": "ai-agent",
   "language": "python",
   "name": "python3"
  },
  "language_info": {
   "codemirror_mode": {
    "name": "ipython",
    "version": 3
   },
   "file_extension": ".py",
   "mimetype": "text/x-python",
   "name": "python",
   "nbconvert_exporter": "python",
   "pygments_lexer": "ipython3",
   "version": "3.12.11"
  }
 },
 "nbformat": 4,
 "nbformat_minor": 5
}
